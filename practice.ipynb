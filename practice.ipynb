{
 "cells": [
  {
   "cell_type": "code",
   "execution_count": 1,
   "metadata": {},
   "outputs": [],
   "source": [
    "import django\n",
    "import os\n",
    "os.environ['DJANGO_SETTINGS_MODULE'] = 'FacebookPosts.settings'\n",
    "django.setup()\n",
    "from posts.models import User, Post, PostReaction, Comment, CommentReaction"
   ]
  },
  {
   "cell_type": "code",
   "execution_count": 118,
   "metadata": {
    "scrolled": false
   },
   "outputs": [
    {
     "data": {
      "text/plain": [
       "{'post_id': 2,\n",
       " 'posted_by': {'user_id': 3,\n",
       "  'name': 'Manoj',\n",
       "  'profile_pic_url': 'http://manoj.jpg'},\n",
       " 'posted_at': '2019-06-27 12:28:37',\n",
       " 'post_content': 'Good Morning Friends',\n",
       " 'reactions': {'count': 4, 'type': ['LOVE', 'LIKE']},\n",
       " 'comments': [{'comment_id': 2,\n",
       "   'commenter': {'user_id': 1,\n",
       "    'name': 'Karthik',\n",
       "    'profile_pic': 'https://karthik.jpg'},\n",
       "   'commented_at': '2019-06-27 13:01:01',\n",
       "   'comment_content': 'Good Eve',\n",
       "   'reactions': {'count': 1, 'type': ['LOVE']},\n",
       "   'replies_count': 2,\n",
       "   'replies': [{'comment_id': 3,\n",
       "     'commenter': {'user_id': 3,\n",
       "      'name': 'Manoj',\n",
       "      'profile_pic': 'http://manoj.jpg'},\n",
       "     'commented_at': '2019-06-28 03:33:21',\n",
       "     'comment_content': 'ABC',\n",
       "     'reactions': {'count': 1, 'type': ['LIKE']}},\n",
       "    {'comment_id': 4,\n",
       "     'commenter': {'user_id': 4,\n",
       "      'name': 'Sravan',\n",
       "      'profile_pic': 'http://sravan.png'},\n",
       "     'commented_at': '2019-06-28 03:33:52',\n",
       "     'comment_content': 'XYZ',\n",
       "     'reactions': {'count': 0, 'type': []}}]}],\n",
       " 'comments_count': 1}"
      ]
     },
     "execution_count": 118,
     "metadata": {},
     "output_type": "execute_result"
    }
   ],
   "source": [
    "import posts.operations as op\n",
    "from django.db import connection, reset_queries\n",
    "from django.db.models import Prefetch\n",
    "def get_comment_data(comment):\n",
    "    d = {\n",
    "        \"comment_id\":comment['id'],\n",
    "        \"commenter\":{\n",
    "            \"user_id\":comment['user_id'],\n",
    "            \"name\": comment['user__user_name'],\n",
    "            \"profile_pic\": comment['user__profile_pic']\n",
    "        },\n",
    "        \"commented_at\": comment['comment_create_date'].strftime(\"%Y-%m-%d %H:%M:%S\"),\n",
    "        \"comment_content\": comment['message']\n",
    "    }\n",
    "    return d\n",
    "post = Post.objects.select_related('user').get(id=2)\n",
    "posted_by = op.get_user_data(post)\n",
    "posted_at = post.post_created_date.strftime(\"%Y-%m-%d %H:%M:%S\")\n",
    "post_content = post.post_description\n",
    "post_reactions = PostReaction.objects.filter(post_id=1).values('reaction')\n",
    "reactions = []\n",
    "for reaction in post_reactions:\n",
    "    reactions.append(reaction['reaction'])\n",
    "post_reaction_count = len(reactions)\n",
    "post_reactions = list(set(reactions))\n",
    "\n",
    "post_comments = Comment.objects.select_related('user').filter(post_id=2, commented_on_id=None).values('id', 'user_id', 'user__user_name', 'user__profile_pic', 'commented_on_id','comment_create_date','message')\n",
    "comments_ids = [comment['id'] for comment in post_comments]\n",
    "\n",
    "replies = Comment.objects.select_related('user').filter(commented_on_id__in=comments_ids).values('id', 'user_id', 'user__user_name', 'user__profile_pic', 'commented_on_id','comment_create_date','message')\n",
    "\n",
    "comments_ids[len(comments_ids)+1:] = [reply['id'] for reply in replies]\n",
    "\n",
    "comment_reactions = CommentReaction.objects.select_related('user').filter(comment_id__in=comments_ids).values('comment_id','reaction')\n",
    "\n",
    "comment_reaction = {}\n",
    "for react in comment_reactions:\n",
    "    l = []\n",
    "    r = react['reaction']\n",
    "    l.append(r)\n",
    "    try:\n",
    "        comment_reaction[react['comment_id']].append(r)\n",
    "        \n",
    "    except:\n",
    "        comment_reaction[react['comment_id']] = l\n",
    "\n",
    "for id in comment_reaction:\n",
    "    count = len(comment_reaction[id])\n",
    "    reactions = list(set(comment_reaction[id]))\n",
    "    data = {\"count\": count, \"type\": reactions}\n",
    "    comment_reaction[id] = data\n",
    "\n",
    "comment_replies = {}\n",
    "for reply in replies:\n",
    "    comment_reply = []\n",
    "    d = get_comment_data(reply)\n",
    "    try:\n",
    "        d[\"reactions\"] = comment_reaction[reply['id']]\n",
    "    except:\n",
    "        d[\"reactions\"] = {\"count\": 0, \"type\": []}\n",
    "    comment_reply.append(d)\n",
    "    try:\n",
    "        comment_replies[reply['commented_on_id']].append(d)\n",
    "    except:\n",
    "        comment_replies[reply['commented_on_id']] = comment_reply\n",
    "\n",
    "comments = []\n",
    "for comment in post_comments:\n",
    "    d = get_comment_data(comment)\n",
    "    d[\"reactions\"] = comment_reaction[comment['id']]\n",
    "    d[\"replies_count\"] = len(comment_replies[comment['id']])\n",
    "    d[\"replies\"]= comment_replies[comment['id']]\n",
    "    comments.append(d)\n",
    "comments\n",
    "    \n",
    "result = {\"post_id\": 2, \"posted_by\": posted_by, \"posted_at\": posted_at, \"post_content\": post_content,\n",
    "              \"reactions\": {\n",
    "                  \"count\": post_reaction_count,\n",
    "                  \"type\": post_reactions\n",
    "              }, \"comments\": comments, \"comments_count\": len(comments)}\n",
    "result"
   ]
  },
  {
   "cell_type": "code",
   "execution_count": 110,
   "metadata": {
    "scrolled": false
   },
   "outputs": [
    {
     "data": {
      "text/plain": [
       "[{'sql': 'SELECT \"posts_post\".\"id\", \"posts_post\".\"user_id\", \"posts_post\".\"post_description\", \"posts_post\".\"post_created_date\", \"posts_user\".\"id\", \"posts_user\".\"user_name\", \"posts_user\".\"profile_pic\" FROM \"posts_post\" INNER JOIN \"posts_user\" ON (\"posts_post\".\"user_id\" = \"posts_user\".\"id\") WHERE \"posts_post\".\"id\" = 1',\n",
       "  'time': '0.000'},\n",
       " {'sql': 'SELECT \"posts_postreaction\".\"reaction\" FROM \"posts_postreaction\" WHERE \"posts_postreaction\".\"post_id\" = 1',\n",
       "  'time': '0.000'},\n",
       " {'sql': 'SELECT \"posts_comment\".\"id\", \"posts_comment\".\"user_id\", \"posts_user\".\"user_name\", \"posts_user\".\"profile_pic\", \"posts_comment\".\"commented_on_id_id\", \"posts_comment\".\"comment_create_date\", \"posts_comment\".\"message\" FROM \"posts_comment\" INNER JOIN \"posts_user\" ON (\"posts_comment\".\"user_id\" = \"posts_user\".\"id\") WHERE (\"posts_comment\".\"commented_on_id_id\" IS NULL AND \"posts_comment\".\"post_id\" = 1)',\n",
       "  'time': '0.000'},\n",
       " {'sql': 'SELECT \"posts_comment\".\"id\", \"posts_comment\".\"user_id\", \"posts_user\".\"user_name\", \"posts_user\".\"profile_pic\", \"posts_comment\".\"commented_on_id_id\", \"posts_comment\".\"comment_create_date\", \"posts_comment\".\"message\" FROM \"posts_comment\" INNER JOIN \"posts_user\" ON (\"posts_comment\".\"user_id\" = \"posts_user\".\"id\") WHERE \"posts_comment\".\"commented_on_id_id\" IN (1, 7, 8)',\n",
       "  'time': '0.000'},\n",
       " {'sql': 'SELECT \"posts_commentreaction\".\"comment_id\", \"posts_commentreaction\".\"reaction\" FROM \"posts_commentreaction\" WHERE \"posts_commentreaction\".\"comment_id\" IN (1, 7, 8, 5, 6, 9, 10)',\n",
       "  'time': '0.000'}]"
      ]
     },
     "execution_count": 110,
     "metadata": {},
     "output_type": "execute_result"
    }
   ],
   "source": [
    "qry = connection.queries\n",
    "qry"
   ]
  },
  {
   "cell_type": "code",
   "execution_count": 111,
   "metadata": {},
   "outputs": [
    {
     "name": "stdout",
     "output_type": "stream",
     "text": [
      "5\n"
     ]
    }
   ],
   "source": [
    "print(len(qry))\n",
    "reset_queries()"
   ]
  },
  {
   "cell_type": "code",
   "execution_count": 5,
   "metadata": {},
   "outputs": [
    {
     "data": {
      "text/plain": [
       "{'post_id': 1,\n",
       " 'posted_by': {'user_id': 1,\n",
       "  'name': 'Karthik',\n",
       "  'profile_pic_url': 'https://karthik.jpg'},\n",
       " 'posted_at': '2019-06-27 12:28:28',\n",
       " 'post_content': 'Hi friends Good Evening',\n",
       " 'reactions': {'count': 4, 'type': ['LOVE', 'LIKE']},\n",
       " 'comments': [{'comment_id': 1,\n",
       "   'commenter': {'user_id': 2,\n",
       "    'name': 'Bharat',\n",
       "    'profile_pic_url': 'http://bharat.png'},\n",
       "   'commented_at': '2019-06-27 12:39:38',\n",
       "   'comment_content': 'Good Evening',\n",
       "   'reactions': {'count': 1, 'type': ['LOVE']},\n",
       "   'replies_count': 2,\n",
       "   'replies': [{'comment_id': 5,\n",
       "     'commenter': {'user_id': 4,\n",
       "      'name': 'Sravan',\n",
       "      'profile_pic_url': 'http://sravan.png'},\n",
       "     'commented_at': '2019-06-28 03:34:22',\n",
       "     'comment_content': 'REPLY',\n",
       "     'reactions': {'count': 1, 'type': ['LIKE']}},\n",
       "    {'comment_id': 6,\n",
       "     'commenter': {'user_id': 4,\n",
       "      'name': 'Sravan',\n",
       "      'profile_pic_url': 'http://sravan.png'},\n",
       "     'commented_at': '2019-06-28 03:40:48',\n",
       "     'comment_content': 'REPLY_reply',\n",
       "     'reactions': {'count': 1, 'type': ['WOW']}}]},\n",
       "  {'comment_id': 7,\n",
       "   'commenter': {'user_id': 3,\n",
       "    'name': 'Manoj',\n",
       "    'profile_pic_url': 'http://manoj.jpg'},\n",
       "   'commented_at': '2019-06-28 12:48:25',\n",
       "   'comment_content': 'ABC',\n",
       "   'reactions': {'count': 1, 'type': ['SAD']},\n",
       "   'replies_count': 1,\n",
       "   'replies': [{'comment_id': 9,\n",
       "     'commenter': {'user_id': 2,\n",
       "      'name': 'Bharat',\n",
       "      'profile_pic_url': 'http://bharat.png'},\n",
       "     'commented_at': '2019-06-29 08:37:44',\n",
       "     'comment_content': 'QWERTY',\n",
       "     'reactions': {'count': 0, 'type': []}}]},\n",
       "  {'comment_id': 8,\n",
       "   'commenter': {'user_id': 1,\n",
       "    'name': 'Karthik',\n",
       "    'profile_pic_url': 'https://karthik.jpg'},\n",
       "   'commented_at': '2019-06-29 07:32:02',\n",
       "   'comment_content': 'WOW',\n",
       "   'reactions': {'count': 1, 'type': ['ANGRY']},\n",
       "   'replies_count': 1,\n",
       "   'replies': [{'comment_id': 10,\n",
       "     'commenter': {'user_id': 3,\n",
       "      'name': 'Manoj',\n",
       "      'profile_pic_url': 'http://manoj.jpg'},\n",
       "     'commented_at': '2019-06-29 08:38:02',\n",
       "     'comment_content': 'ASDFGH',\n",
       "     'reactions': {'count': 0, 'type': []}}]}],\n",
       " 'comments_count': 3}"
      ]
     },
     "execution_count": 5,
     "metadata": {},
     "output_type": "execute_result"
    }
   ],
   "source": [
    "op.get_post(1)"
   ]
  },
  {
   "cell_type": "code",
   "execution_count": 6,
   "metadata": {},
   "outputs": [
    {
     "data": {
      "text/plain": [
       "[{'sql': 'SELECT \"posts_post\".\"id\", \"posts_post\".\"user_id\", \"posts_post\".\"post_description\", \"posts_post\".\"post_created_date\", \"posts_user\".\"id\", \"posts_user\".\"user_name\", \"posts_user\".\"profile_pic\" FROM \"posts_post\" INNER JOIN \"posts_user\" ON (\"posts_post\".\"user_id\" = \"posts_user\".\"id\") WHERE \"posts_post\".\"id\" = 1',\n",
       "  'time': '0.000'},\n",
       " {'sql': 'SELECT \"posts_postreaction\".\"id\", \"posts_postreaction\".\"post_id\", \"posts_postreaction\".\"user_id\", \"posts_postreaction\".\"reaction\" FROM \"posts_postreaction\" WHERE \"posts_postreaction\".\"post_id\" IN (1)',\n",
       "  'time': '0.000'},\n",
       " {'sql': 'SELECT \"posts_comment\".\"id\", \"posts_comment\".\"post_id\", \"posts_comment\".\"user_id\", \"posts_comment\".\"commented_on_id_id\", \"posts_comment\".\"comment_create_date\", \"posts_comment\".\"message\" FROM \"posts_comment\" WHERE (\"posts_comment\".\"commented_on_id_id\" IS NULL AND \"posts_comment\".\"post_id\" IN (1))',\n",
       "  'time': '0.000'},\n",
       " {'sql': 'SELECT DISTINCT \"posts_postreaction\".\"reaction\" FROM \"posts_postreaction\" WHERE \"posts_postreaction\".\"post_id\" = 1',\n",
       "  'time': '0.000'},\n",
       " {'sql': 'SELECT \"posts_comment\".\"id\", \"posts_comment\".\"post_id\", \"posts_comment\".\"user_id\", \"posts_comment\".\"commented_on_id_id\", \"posts_comment\".\"comment_create_date\", \"posts_comment\".\"message\" FROM \"posts_comment\" WHERE (\"posts_comment\".\"commented_on_id_id\" IS NULL AND \"posts_comment\".\"post_id\" = 1)',\n",
       "  'time': '0.000'},\n",
       " {'sql': 'SELECT \"posts_commentreaction\".\"id\", \"posts_commentreaction\".\"comment_id\", \"posts_commentreaction\".\"user_id\", \"posts_commentreaction\".\"reaction\" FROM \"posts_commentreaction\" WHERE \"posts_commentreaction\".\"comment_id\" IN (1, 7, 8)',\n",
       "  'time': '0.000'},\n",
       " {'sql': 'SELECT \"posts_comment\".\"id\", \"posts_comment\".\"post_id\", \"posts_comment\".\"user_id\", \"posts_comment\".\"commented_on_id_id\", \"posts_comment\".\"comment_create_date\", \"posts_comment\".\"message\" FROM \"posts_comment\" WHERE \"posts_comment\".\"commented_on_id_id\" IN (1, 7, 8)',\n",
       "  'time': '0.000'},\n",
       " {'sql': 'SELECT \"posts_user\".\"id\", \"posts_user\".\"user_name\", \"posts_user\".\"profile_pic\" FROM \"posts_user\" WHERE \"posts_user\".\"id\" IN (1, 2, 3)',\n",
       "  'time': '0.000'},\n",
       " {'sql': 'SELECT \"posts_user\".\"id\", \"posts_user\".\"user_name\", \"posts_user\".\"profile_pic\" FROM \"posts_user\" WHERE \"posts_user\".\"id\" = 4',\n",
       "  'time': '0.000'},\n",
       " {'sql': 'SELECT COUNT(*) AS \"__count\" FROM \"posts_commentreaction\" WHERE \"posts_commentreaction\".\"comment_id\" = 5',\n",
       "  'time': '0.000'},\n",
       " {'sql': 'SELECT DISTINCT \"posts_commentreaction\".\"reaction\" FROM \"posts_commentreaction\" WHERE \"posts_commentreaction\".\"comment_id\" = 5',\n",
       "  'time': '0.000'},\n",
       " {'sql': 'SELECT \"posts_user\".\"id\", \"posts_user\".\"user_name\", \"posts_user\".\"profile_pic\" FROM \"posts_user\" WHERE \"posts_user\".\"id\" = 4',\n",
       "  'time': '0.000'},\n",
       " {'sql': 'SELECT COUNT(*) AS \"__count\" FROM \"posts_commentreaction\" WHERE \"posts_commentreaction\".\"comment_id\" = 6',\n",
       "  'time': '0.000'},\n",
       " {'sql': 'SELECT DISTINCT \"posts_commentreaction\".\"reaction\" FROM \"posts_commentreaction\" WHERE \"posts_commentreaction\".\"comment_id\" = 6',\n",
       "  'time': '0.000'},\n",
       " {'sql': 'SELECT DISTINCT \"posts_commentreaction\".\"reaction\" FROM \"posts_commentreaction\" WHERE \"posts_commentreaction\".\"comment_id\" = 1',\n",
       "  'time': '0.000'},\n",
       " {'sql': 'SELECT \"posts_user\".\"id\", \"posts_user\".\"user_name\", \"posts_user\".\"profile_pic\" FROM \"posts_user\" WHERE \"posts_user\".\"id\" = 2',\n",
       "  'time': '0.000'},\n",
       " {'sql': 'SELECT COUNT(*) AS \"__count\" FROM \"posts_commentreaction\" WHERE \"posts_commentreaction\".\"comment_id\" = 9',\n",
       "  'time': '0.000'},\n",
       " {'sql': 'SELECT DISTINCT \"posts_commentreaction\".\"reaction\" FROM \"posts_commentreaction\" WHERE \"posts_commentreaction\".\"comment_id\" = 9',\n",
       "  'time': '0.000'},\n",
       " {'sql': 'SELECT DISTINCT \"posts_commentreaction\".\"reaction\" FROM \"posts_commentreaction\" WHERE \"posts_commentreaction\".\"comment_id\" = 7',\n",
       "  'time': '0.000'},\n",
       " {'sql': 'SELECT \"posts_user\".\"id\", \"posts_user\".\"user_name\", \"posts_user\".\"profile_pic\" FROM \"posts_user\" WHERE \"posts_user\".\"id\" = 3',\n",
       "  'time': '0.000'},\n",
       " {'sql': 'SELECT COUNT(*) AS \"__count\" FROM \"posts_commentreaction\" WHERE \"posts_commentreaction\".\"comment_id\" = 10',\n",
       "  'time': '0.000'},\n",
       " {'sql': 'SELECT DISTINCT \"posts_commentreaction\".\"reaction\" FROM \"posts_commentreaction\" WHERE \"posts_commentreaction\".\"comment_id\" = 10',\n",
       "  'time': '0.000'},\n",
       " {'sql': 'SELECT DISTINCT \"posts_commentreaction\".\"reaction\" FROM \"posts_commentreaction\" WHERE \"posts_commentreaction\".\"comment_id\" = 8',\n",
       "  'time': '0.000'}]"
      ]
     },
     "execution_count": 6,
     "metadata": {},
     "output_type": "execute_result"
    }
   ],
   "source": [
    "qry = connection.queries\n",
    "qry"
   ]
  },
  {
   "cell_type": "code",
   "execution_count": 7,
   "metadata": {},
   "outputs": [
    {
     "name": "stdout",
     "output_type": "stream",
     "text": [
      "23\n"
     ]
    }
   ],
   "source": [
    "print(len(qry))\n",
    "reset_queries()"
   ]
  },
  {
   "cell_type": "code",
   "execution_count": 8,
   "metadata": {
    "scrolled": false
   },
   "outputs": [
    {
     "name": "stdout",
     "output_type": "stream",
     "text": [
      "<QuerySet [<User: Karthik>]>\n"
     ]
    },
    {
     "data": {
      "text/plain": [
       "[{'sql': 'SELECT \"posts_user\".\"id\", \"posts_user\".\"user_name\", \"posts_user\".\"profile_pic\" FROM \"posts_user\" WHERE \"posts_user\".\"id\" = 1  LIMIT 21',\n",
       "  'time': '0.000'},\n",
       " {'sql': 'SELECT \"posts_postreaction\".\"id\", \"posts_postreaction\".\"post_id\", \"posts_postreaction\".\"user_id\", \"posts_postreaction\".\"reaction\" FROM \"posts_postreaction\" WHERE \"posts_postreaction\".\"user_id\" IN (1)',\n",
       "  'time': '0.000'}]"
      ]
     },
     "execution_count": 8,
     "metadata": {},
     "output_type": "execute_result"
    }
   ],
   "source": [
    "posts = User.objects.prefetch_related('postreaction_set').filter(id=1)\n",
    "print(posts)\n",
    "qry = connection.queries\n",
    "qry"
   ]
  },
  {
   "cell_type": "code",
   "execution_count": 9,
   "metadata": {},
   "outputs": [
    {
     "name": "stdout",
     "output_type": "stream",
     "text": [
      "2\n"
     ]
    }
   ],
   "source": [
    "print(len(qry))\n",
    "reset_queries()"
   ]
  },
  {
   "cell_type": "code",
   "execution_count": null,
   "metadata": {},
   "outputs": [],
   "source": []
  }
 ],
 "metadata": {
  "kernelspec": {
   "display_name": "Python 3",
   "language": "python",
   "name": "python3"
  },
  "language_info": {
   "codemirror_mode": {
    "name": "ipython",
    "version": 3
   },
   "file_extension": ".py",
   "mimetype": "text/x-python",
   "name": "python",
   "nbconvert_exporter": "python",
   "pygments_lexer": "ipython3",
   "version": "3.7.3"
  }
 },
 "nbformat": 4,
 "nbformat_minor": 2
}
