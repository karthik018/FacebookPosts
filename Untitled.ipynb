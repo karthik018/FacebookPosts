{
 "cells": [
  {
   "cell_type": "code",
   "execution_count": 1,
   "metadata": {},
   "outputs": [],
   "source": [
    "import django\n",
    "import os\n",
    "os.environ['DJANGO_SETTINGS_MODULE'] = 'FacebookPosts.settings'\n",
    "django.setup()\n",
    "from IMDB.models import *\n",
    "from django.db import connection, reset_queries\n",
    "from django.db.models import Avg, F, Sum, FloatField, functions, Count, Max, Q, ExpressionWrapper, DurationField"
   ]
  },
  {
   "cell_type": "code",
   "execution_count": 2,
   "metadata": {},
   "outputs": [
    {
     "name": "stdout",
     "output_type": "stream",
     "text": [
      "I\n",
      "Bi\n",
      "A\n",
      "R\n",
      "S\n",
      "K\n",
      "Ma\n",
      "F\n",
      "E\n",
      "M\n"
     ]
    },
    {
     "data": {
      "text/plain": [
       "[{'sql': 'SELECT \"IMDB_movierating\".\"movie_id\", \"IMDB_movie\".\"title\", CAST((SUM(((\"IMDB_movierating\".\"rating_number\" * \"IMDB_movierating\".\"no_of_ratings\") * 1.0)) / SUM(\"IMDB_movierating\".\"no_of_ratings\")) AS real) AS \"average\" FROM \"IMDB_movierating\" INNER JOIN \"IMDB_movie\" ON (\"IMDB_movierating\".\"movie_id\" = \"IMDB_movie\".\"id\") GROUP BY \"IMDB_movierating\".\"movie_id\", \"IMDB_movie\".\"title\" ORDER BY \"average\" DESC  LIMIT 10',\n",
       "  'time': '0.000'}]"
      ]
     },
     "execution_count": 2,
     "metadata": {},
     "output_type": "execute_result"
    }
   ],
   "source": [
    "ratings = MovieRating.objects.values('movie_id','movie__title').annotate(average=functions.Cast(Sum(F('rating_number')*F('no_of_ratings')*1.0)/Sum(F('no_of_ratings')), output_field=FloatField())).order_by('-average')[:10]\n",
    "for movie in ratings:\n",
    "    print(movie['movie__title'])\n",
    "connection.queries"
   ]
  },
  {
   "cell_type": "code",
   "execution_count": 3,
   "metadata": {},
   "outputs": [],
   "source": [
    "reset_queries()"
   ]
  },
  {
   "cell_type": "code",
   "execution_count": 4,
   "metadata": {},
   "outputs": [
    {
     "data": {
      "text/plain": [
       "['I', 'Bi', 'A', 'R', 'S', 'K', 'Ma', 'F', 'E', 'M']"
      ]
     },
     "execution_count": 4,
     "metadata": {},
     "output_type": "execute_result"
    }
   ],
   "source": [
    "import IMDB.operations as op\n",
    "op.top_ten_movies_with_top_avg_rating()"
   ]
  },
  {
   "cell_type": "code",
   "execution_count": 5,
   "metadata": {},
   "outputs": [
    {
     "name": "stdout",
     "output_type": "stream",
     "text": [
      "[{'cast_id': 2, 'movies': 4}, {'cast_id': 6, 'movies': 4}, {'cast_id': 1, 'movies': 3}, {'cast_id': 3, 'movies': 3}, {'cast_id': 4, 'movies': 3}] [{'cast_id': 16, 'movies': 2}, {'cast_id': 9, 'movies': 1}, {'cast_id': 13, 'movies': 1}, {'cast_id': 17, 'movies': 1}, {'cast_id': 18, 'movies': 1}]\n"
     ]
    },
    {
     "data": {
      "text/plain": [
       "[{'sql': 'SELECT \"IMDB_movierating\".\"movie_id\", \"IMDB_movie\".\"title\", CAST((SUM(((\"IMDB_movierating\".\"rating_number\" * \"IMDB_movierating\".\"no_of_ratings\") * 1.0)) / SUM(\"IMDB_movierating\".\"no_of_ratings\")) AS real) AS \"average\" FROM \"IMDB_movierating\" INNER JOIN \"IMDB_movie\" ON (\"IMDB_movierating\".\"movie_id\" = \"IMDB_movie\".\"id\") GROUP BY \"IMDB_movierating\".\"movie_id\", \"IMDB_movie\".\"title\" ORDER BY \"average\" DESC  LIMIT 10',\n",
       "  'time': '0.000'},\n",
       " {'sql': 'SELECT \"IMDB_moviecast\".\"cast_id\", COUNT(\"IMDB_moviecast\".\"movie_id\") AS \"movies\" FROM \"IMDB_moviecast\" GROUP BY \"IMDB_moviecast\".\"cast_id\" ORDER BY \"movies\" DESC',\n",
       "  'time': '0.000'}]"
      ]
     },
     "execution_count": 5,
     "metadata": {},
     "output_type": "execute_result"
    }
   ],
   "source": [
    "no_of_movies = MovieCast.objects.values('cast_id').annotate(movies=Count(F('movie_id'))).order_by('-movies') \n",
    "actors_list = list(no_of_movies)\n",
    "top_5_actors = actors_list[:5]\n",
    "least_5_actors = actors_list[-5:]\n",
    "print(top_5_actors, least_5_actors)\n",
    "connection.queries"
   ]
  },
  {
   "cell_type": "code",
   "execution_count": 6,
   "metadata": {},
   "outputs": [
    {
     "data": {
      "text/plain": [
       "<QuerySet [{'movie_id': 1, 'count': 2}, {'movie_id': 3, 'count': 1}, {'movie_id': 5, 'count': 1}, {'movie_id': 6, 'count': 1}, {'movie_id': 8, 'count': 1}, {'movie_id': 10, 'count': 1}, {'movie_id': 12, 'count': 1}]>"
      ]
     },
     "execution_count": 6,
     "metadata": {},
     "output_type": "execute_result"
    }
   ],
   "source": [
    "from django.db.models import OuterRef, Subquery\n",
    "star_month = MovieCast.objects.filter(movie_id=OuterRef('movie_id')).values('cast__birth_date__month').annotate(count=Count('cast__birth_date__month')).values_list('cast__birth_date__month', flat=True).order_by('-count','cast__birth_date__month')\n",
    "star_months = MovieCast.objects.values('movie_id','cast__birth_date__month').annotate(count=Count('id'), star_month=Subquery(star_month[:1])).filter(movie__release_date__month=F('star_month'), cast__birth_date__month=F('star_month')).order_by('-count').values('movie_id','count')\n",
    "star_months"
   ]
  },
  {
   "cell_type": "code",
   "execution_count": 7,
   "metadata": {},
   "outputs": [],
   "source": [
    "reset_queries()"
   ]
  },
  {
   "cell_type": "code",
   "execution_count": 8,
   "metadata": {},
   "outputs": [
    {
     "data": {
      "text/plain": [
       "<QuerySet [{'cast_id': 1, 'movie__release_date__month': 5, 'count': 2, 'actor_month': 5}, {'cast_id': 4, 'movie__release_date__month': 5, 'count': 2, 'actor_month': 5}, {'cast_id': 9, 'movie__release_date__month': 4, 'count': 1, 'actor_month': 4}, {'cast_id': 10, 'movie__release_date__month': 3, 'count': 1, 'actor_month': 3}, {'cast_id': 15, 'movie__release_date__month': 1, 'count': 1, 'actor_month': 1}, {'cast_id': 18, 'movie__release_date__month': 5, 'count': 1, 'actor_month': 5}]>"
      ]
     },
     "execution_count": 8,
     "metadata": {},
     "output_type": "execute_result"
    }
   ],
   "source": [
    "actor_month = Actor.objects.filter(id=OuterRef('cast_id')).values_list('birth_date__month', flat=True)\n",
    "movie_month = MovieCast.objects.values('cast_id', 'movie__release_date__month').annotate(count=Count('movie_id'), actor_month=Subquery(actor_month)).filter(movie__release_date__month=F('actor_month'), cast__birth_date__month=F('actor_month'))\n",
    "movie_month"
   ]
  },
  {
   "cell_type": "code",
   "execution_count": 9,
   "metadata": {},
   "outputs": [
    {
     "data": {
      "text/plain": [
       "<QuerySet [{'cast_id': 1, 'count': 2}, {'cast_id': 4, 'count': 2}, {'cast_id': 9, 'count': 1}, {'cast_id': 10, 'count': 1}, {'cast_id': 15, 'count': 1}, {'cast_id': 18, 'count': 1}]>"
      ]
     },
     "execution_count": 9,
     "metadata": {},
     "output_type": "execute_result"
    }
   ],
   "source": [
    "from django.db.models.functions import ExtractMonth\n",
    "actor_movies = MovieCast.objects.values('cast_id').annotate(count=Count('movie_id'), actor_month=ExtractMonth('cast__birth_date'), movie_month=ExtractMonth('movie__release_date')).filter(movie__release_date__month=F('actor_month')).values('cast_id','count')\n",
    "actor_movies"
   ]
  },
  {
   "cell_type": "code",
   "execution_count": 10,
   "metadata": {},
   "outputs": [
    {
     "name": "stdout",
     "output_type": "stream",
     "text": [
      "<QuerySet [{'cast_id': 2, 'difference_sum': 75}, {'cast_id': 3, 'difference_sum': 50}, {'cast_id': 6, 'difference_sum': 41}, {'cast_id': 1, 'difference_sum': 36}, {'cast_id': 10, 'difference_sum': 34}, {'cast_id': 18, 'difference_sum': 28}, {'cast_id': 9, 'difference_sum': 25}, {'cast_id': 14, 'difference_sum': 23}, {'cast_id': 17, 'difference_sum': 6}, {'cast_id': 7, 'difference_sum': 3}, {'cast_id': 13, 'difference_sum': 3}, {'cast_id': 15, 'difference_sum': -14}, {'cast_id': 4, 'difference_sum': -23}, {'cast_id': 16, 'difference_sum': -28}]>\n"
     ]
    },
    {
     "data": {
      "text/plain": [
       "[{'sql': 'SELECT \"IMDB_moviecast\".\"cast_id\", django_date_extract(\\'month\\', \"IMDB_movie\".\"release_date\"), COUNT(\"IMDB_moviecast\".\"movie_id\") AS \"count\", (SELECT django_date_extract(\\'month\\', U0.\"birth_date\") FROM \"IMDB_actor\" U0 WHERE U0.\"id\" = (\"IMDB_moviecast\".\"cast_id\")) AS \"actor_month\" FROM \"IMDB_moviecast\" INNER JOIN \"IMDB_actor\" ON (\"IMDB_moviecast\".\"cast_id\" = \"IMDB_actor\".\"id\") INNER JOIN \"IMDB_movie\" ON (\"IMDB_moviecast\".\"movie_id\" = \"IMDB_movie\".\"id\") WHERE (django_date_extract(\\'month\\', \"IMDB_actor\".\"birth_date\") = (SELECT django_date_extract(\\'month\\', U0.\"birth_date\") FROM \"IMDB_actor\" U0 WHERE U0.\"id\" = (\"IMDB_moviecast\".\"cast_id\")) AND django_date_extract(\\'month\\', \"IMDB_movie\".\"release_date\") = (SELECT django_date_extract(\\'month\\', U0.\"birth_date\") FROM \"IMDB_actor\" U0 WHERE U0.\"id\" = (\"IMDB_moviecast\".\"cast_id\"))) GROUP BY \"IMDB_moviecast\".\"cast_id\", django_date_extract(\\'month\\', \"IMDB_movie\".\"release_date\"), (SELECT django_date_extract(\\'month\\', U0.\"birth_date\") FROM \"IMDB_actor\" U0 WHERE U0.\"id\" = (\"IMDB_moviecast\".\"cast_id\"))  LIMIT 21',\n",
       "  'time': '0.000'},\n",
       " {'sql': 'SELECT \"IMDB_moviecast\".\"cast_id\", COUNT(\"IMDB_moviecast\".\"movie_id\") AS \"count\" FROM \"IMDB_moviecast\" INNER JOIN \"IMDB_actor\" ON (\"IMDB_moviecast\".\"cast_id\" = \"IMDB_actor\".\"id\") INNER JOIN \"IMDB_movie\" ON (\"IMDB_moviecast\".\"movie_id\" = \"IMDB_movie\".\"id\") WHERE django_date_extract(\\'month\\', \"IMDB_movie\".\"release_date\") = (django_date_extract(\\'month\\', \"IMDB_actor\".\"birth_date\")) GROUP BY \"IMDB_moviecast\".\"cast_id\", django_date_extract(\\'month\\', \"IMDB_actor\".\"birth_date\"), django_date_extract(\\'month\\', \"IMDB_movie\".\"release_date\")  LIMIT 21',\n",
       "  'time': '0.001'},\n",
       " {'sql': 'SELECT \"IMDB_moviecast\".\"cast_id\", SUM((SELECT (SUM(CASE WHEN U0.\"rating_number\" = 1 THEN U0.\"no_of_ratings\" ELSE NULL END) - SUM(CASE WHEN U0.\"rating_number\" = 5 THEN U0.\"no_of_ratings\" ELSE NULL END)) AS \"difference\" FROM \"IMDB_movierating\" U0 WHERE U0.\"movie_id\" = (\"IMDB_moviecast\".\"movie_id\") GROUP BY U0.\"movie_id\")) AS \"difference_sum\" FROM \"IMDB_moviecast\" GROUP BY \"IMDB_moviecast\".\"cast_id\" ORDER BY \"difference_sum\" DESC  LIMIT 21',\n",
       "  'time': '0.000'}]"
      ]
     },
     "execution_count": 10,
     "metadata": {},
     "output_type": "execute_result"
    }
   ],
   "source": [
    "movie_rating_difference = MovieRating.objects.filter(movie_id=OuterRef('movie_id')).values('movie_id').annotate(one_star=Sum('no_of_ratings', filter=Q(rating_number=1)), five_star=Sum('no_of_ratings', filter=Q(rating_number=5)), difference=F('one_star')-F('five_star')).values('difference')\n",
    "actors = MovieCast.objects.annotate(difference=Subquery(movie_rating_difference)).values('cast_id').annotate(difference_sum=Sum('difference')).order_by('-difference_sum')\n",
    "print(actors)\n",
    "connection.queries"
   ]
  },
  {
   "cell_type": "code",
   "execution_count": 11,
   "metadata": {},
   "outputs": [],
   "source": [
    "reset_queries()"
   ]
  },
  {
   "cell_type": "code",
   "execution_count": 12,
   "metadata": {
    "scrolled": true
   },
   "outputs": [
    {
     "data": {
      "text/plain": [
       "<QuerySet [{'id': 9, 'young_actor': 829958400000000}, {'id': 13, 'young_actor': 848016000000000}, {'id': 10, 'young_actor': 853459200000000}, {'id': 3, 'young_actor': 912384000000000}, {'id': 7, 'young_actor': 921801600000000}, {'id': 8, 'young_actor': 970358400000000}, {'id': 2, 'young_actor': 989366400000000}, {'id': 4, 'young_actor': 1006819200000000}, {'id': 1, 'young_actor': 1028160000000000}, {'id': 11, 'young_actor': 1056585600000000}]>"
      ]
     },
     "execution_count": 12,
     "metadata": {},
     "output_type": "execute_result"
    }
   ],
   "source": [
    "youngest_actors = MovieCast.objects.filter(movie_id=OuterRef('id')).values('movie_id').annotate(age=ExpressionWrapper(F('movie__release_date')-F('cast__birth_date'), output_field=DurationField())).order_by('age').values('age')[:1]\n",
    "movies = Movie.objects.annotate(young_actor=Subquery(youngest_actors)).values('id','young_actor').order_by('young_actor')[:10]\n",
    "movies"
   ]
  },
  {
   "cell_type": "code",
   "execution_count": 13,
   "metadata": {},
   "outputs": [
    {
     "data": {
      "text/plain": [
       "<QuerySet [{'movie__release_date__year': 2019}]>"
      ]
     },
     "execution_count": 13,
     "metadata": {},
     "output_type": "execute_result"
    }
   ],
   "source": [
    "casts_count_in_movie_year = MovieCast.objects.values('movie__release_date__year').annotate(cast_count=Count('cast_id')).order_by('-cast_count').values('movie__release_date__year')[:1]\n",
    "casts_count_in_movie_year"
   ]
  },
  {
   "cell_type": "code",
   "execution_count": 39,
   "metadata": {},
   "outputs": [
    {
     "name": "stdout",
     "output_type": "stream",
     "text": [
      "<QuerySet [{'cast_id': 2, 'second_cast_id': 3, 'count': 3}]>\n"
     ]
    },
    {
     "data": {
      "text/plain": [
       "[{'sql': 'SELECT MAX(\"count\") FROM (SELECT \"IMDB_moviecast\".\"cast_id\" AS Col1, T3.\"cast_id\" AS \"second_cast_id\", COUNT(\"IMDB_moviecast\".\"id\") AS \"count\" FROM \"IMDB_moviecast\" INNER JOIN \"IMDB_movie\" ON (\"IMDB_moviecast\".\"movie_id\" = \"IMDB_movie\".\"id\") INNER JOIN \"IMDB_moviecast\" T3 ON (\"IMDB_movie\".\"id\" = T3.\"movie_id\") WHERE (T3.\"movie_id\" = (\"IMDB_moviecast\".\"movie_id\") AND NOT (\"IMDB_moviecast\".\"cast_id\" = (T3.\"cast_id\")) AND \"IMDB_moviecast\".\"cast_id\" < (T3.\"cast_id\")) GROUP BY \"IMDB_moviecast\".\"cast_id\", T3.\"cast_id\") subquery',\n",
       "  'time': '0.000'},\n",
       " {'sql': 'SELECT \"IMDB_moviecast\".\"cast_id\", T3.\"cast_id\" AS \"second_cast_id\", COUNT(\"IMDB_moviecast\".\"id\") AS \"count\" FROM \"IMDB_moviecast\" INNER JOIN \"IMDB_movie\" ON (\"IMDB_moviecast\".\"movie_id\" = \"IMDB_movie\".\"id\") INNER JOIN \"IMDB_moviecast\" T3 ON (\"IMDB_movie\".\"id\" = T3.\"movie_id\") WHERE (T3.\"movie_id\" = (\"IMDB_moviecast\".\"movie_id\") AND NOT (\"IMDB_moviecast\".\"cast_id\" = (T3.\"cast_id\")) AND \"IMDB_moviecast\".\"cast_id\" < (T3.\"cast_id\")) GROUP BY \"IMDB_moviecast\".\"cast_id\", T3.\"cast_id\" HAVING COUNT(\"IMDB_moviecast\".\"id\") = 3  LIMIT 21',\n",
       "  'time': '0.000'}]"
      ]
     },
     "execution_count": 39,
     "metadata": {},
     "output_type": "execute_result"
    }
   ],
   "source": [
    "movies = MovieCast.objects.filter(movie__moviecast__movie_id=F('movie_id')).annotate(second_cast_id=F('movie__moviecast__cast_id')).exclude(cast_id=F('second_cast_id')).filter(cast_id__lt=F('second_cast_id')).values('cast_id','second_cast_id').annotate(count=Count('id'))\n",
    "max_count = movies.aggregate(Max('count'))\n",
    "cast = movies.filter(count=max_count['count__max'])\n",
    "print(cast)\n",
    "connection.queries"
   ]
  },
  {
   "cell_type": "code",
   "execution_count": 38,
   "metadata": {},
   "outputs": [],
   "source": [
    "reset_queries()"
   ]
  },
  {
   "cell_type": "code",
   "execution_count": 58,
   "metadata": {},
   "outputs": [
    {
     "name": "stdout",
     "output_type": "stream",
     "text": [
      "[{'movie_id': 9}, {'movie_id': 10}, {'movie_id': 13}, {'movie_id': 3}, {'movie_id': 7}] [{'movie_id': 15}, {'movie_id': 12}, {'movie_id': 5}, {'movie_id': 6}, {'movie_id': 1}]\n"
     ]
    }
   ],
   "source": [
    "cast_age = MovieCast.objects.values('movie_id').annotate(cast_avg_age=Avg(ExpressionWrapper((F('movie__release_date')-F('cast__birth_date')), output_field=DurationField())))\n",
    "youngest_movies = cast_age.values('movie_id').order_by('cast_avg_age')[:5]\n",
    "oldest_movies = cast_age.values('movie_id').order_by('-cast_avg_age')[:5]\n",
    "print(list(youngest_movies), list(oldest_movies))"
   ]
  },
  {
   "cell_type": "code",
   "execution_count": null,
   "metadata": {},
   "outputs": [],
   "source": []
  }
 ],
 "metadata": {
  "kernelspec": {
   "display_name": "Python 3",
   "language": "python",
   "name": "python3"
  },
  "language_info": {
   "codemirror_mode": {
    "name": "ipython",
    "version": 3
   },
   "file_extension": ".py",
   "mimetype": "text/x-python",
   "name": "python",
   "nbconvert_exporter": "python",
   "pygments_lexer": "ipython3",
   "version": "3.7.3"
  }
 },
 "nbformat": 4,
 "nbformat_minor": 2
}
